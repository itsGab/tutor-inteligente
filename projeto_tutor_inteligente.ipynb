{
  "nbformat": 4,
  "nbformat_minor": 0,
  "metadata": {
    "colab": {
      "provenance": [],
      "collapsed_sections": [
        "MRWUmsYS7p8_"
      ],
      "authorship_tag": "ABX9TyN3lu2/NnxuDA8WkPXOBgli",
      "include_colab_link": true
    },
    "kernelspec": {
      "name": "python3",
      "display_name": "Python 3"
    },
    "language_info": {
      "name": "python"
    }
  },
  "cells": [
    {
      "cell_type": "markdown",
      "metadata": {
        "id": "view-in-github",
        "colab_type": "text"
      },
      "source": [
        "<a href=\"https://colab.research.google.com/github/itsGab/tutor-inteligente/blob/branches/projeto_tutor_inteligente.ipynb\" target=\"_parent\"><img src=\"https://colab.research.google.com/assets/colab-badge.svg\" alt=\"Open In Colab\"/></a>"
      ]
    },
    {
      "cell_type": "markdown",
      "source": [
        "Para usar o modelo, você deve definir a chave da API na aba **Secrets** (icone de chave na esquerda) no Google Colab como API_KEY."
      ],
      "metadata": {
        "id": "qgCieGt98UwP"
      }
    },
    {
      "cell_type": "markdown",
      "source": [
        "## Instalando GenAi\n"
      ],
      "metadata": {
        "id": "MRWUmsYS7p8_"
      }
    },
    {
      "cell_type": "code",
      "source": [
        "# instalando biblioteca\n",
        "!pip install -U -q google-generativeai"
      ],
      "metadata": {
        "id": "MxQHqpL7EBM8"
      },
      "execution_count": 50,
      "outputs": []
    },
    {
      "cell_type": "markdown",
      "source": [
        "## Configurações"
      ],
      "metadata": {
        "id": "FCkTnkeJ7ydj"
      }
    },
    {
      "cell_type": "code",
      "execution_count": 51,
      "metadata": {
        "id": "fIxYa4hvDzXz"
      },
      "outputs": [],
      "source": [
        "# imports\n",
        "import google.generativeai as genai\n",
        "from IPython.display import Markdown\n",
        "from google.colab import userdata\n",
        "\n",
        "# chave da api\n",
        "API_KEY = userdata.get('API_KEY')\n",
        "genai.configure(api_key=API_KEY)"
      ]
    },
    {
      "cell_type": "code",
      "source": [
        "# montando o modelo\n",
        "generation_config = {\n",
        "  \"temperature\": 1,\n",
        "  \"top_p\": 0.95,\n",
        "  \"top_k\": 0,\n",
        "  \"max_output_tokens\": 16384,\n",
        "}\n",
        "\n",
        "# configuracoes de seguranca\n",
        "safety_settings = [\n",
        "  {\n",
        "    \"category\": \"HARM_CATEGORY_HARASSMENT\",\n",
        "    \"threshold\": \"BLOCK_MEDIUM_AND_ABOVE\"\n",
        "  },\n",
        "  {\n",
        "    \"category\": \"HARM_CATEGORY_HATE_SPEECH\",\n",
        "    \"threshold\": \"BLOCK_MEDIUM_AND_ABOVE\"\n",
        "  },\n",
        "  {\n",
        "    \"category\": \"HARM_CATEGORY_SEXUALLY_EXPLICIT\",\n",
        "    \"threshold\": \"BLOCK_MEDIUM_AND_ABOVE\"\n",
        "  },\n",
        "  {\n",
        "    \"category\": \"HARM_CATEGORY_DANGEROUS_CONTENT\",\n",
        "    \"threshold\": \"BLOCK_MEDIUM_AND_ABOVE\"\n",
        "  },\n",
        "]\n",
        "\n",
        "# carregando instrucoes do modelo\n",
        "with open('/content/instrucoes-tutor-int.txt', 'r') as texto:\n",
        "    system_instruction = texto.read()\n",
        "\n",
        "# finalizando config do modelo\n",
        "model = genai.GenerativeModel(model_name=\"gemini-1.5-pro-latest\",\n",
        "                              generation_config=generation_config,\n",
        "                              system_instruction=system_instruction,\n",
        "                              safety_settings=safety_settings)"
      ],
      "metadata": {
        "id": "FFIdgLEHxgZg"
      },
      "execution_count": 52,
      "outputs": []
    },
    {
      "cell_type": "code",
      "source": [
        "class Estilo:\n",
        "    RESET = '\\033[0m'\n",
        "    TUTOR = '\\033[1m\\033[34m'\n",
        "    USUARIO = '\\033[1m\\033[32m'\n",
        "    FIM = '\\033[31m'\n",
        "\n",
        "# funcao\n",
        "def chat_ativo(modelo):\n",
        "    \"\"\"\n",
        "    Inicia e mantém um chat interativo com um modelo GenerativeModel do Google.\n",
        "    \"\"\"\n",
        "    chat = modelo.start_chat()\n",
        "    print(f'{Estilo.TUTOR}Tutor Inteligente{Estilo.RESET}:\\nOlá, sou o Tutor Inteligente, o que você está estudando e como posso te ajudar?\\n\\n{Estilo.USUARIO}Você:{Estilo.RESET}')\n",
        "    prompt = input('>> ')\n",
        "    while prompt != 'fim':\n",
        "        response = chat.send_message(prompt)\n",
        "        print(f'\\n{Estilo.TUTOR}Tutor Inteligente{Estilo.RESET}:')\n",
        "        display(Markdown(response.text))\n",
        "        print(f'{Estilo.FIM}(Para sair do chat digite \"fim\"){Estilo.RESET}\\n')\n",
        "        display(Markdown('---'))\n",
        "        print(f'{Estilo.USUARIO}Você:{Estilo.RESET}\\n')\n",
        "        prompt = input('>> ')\n",
        "    return chat\n",
        ""
      ],
      "metadata": {
        "id": "PkoA3HX51tmy"
      },
      "execution_count": 53,
      "outputs": []
    },
    {
      "cell_type": "markdown",
      "source": [
        "## CHAT"
      ],
      "metadata": {
        "id": "Q_Ck_-hW7_h-"
      }
    },
    {
      "cell_type": "code",
      "source": [
        "chat = chat_ativo(modelo=model)"
      ],
      "metadata": {
        "colab": {
          "base_uri": "https://localhost:8080/"
        },
        "id": "bwLByLS82vle",
        "outputId": "35b7779b-ce61-462e-9b2e-8a72dc24dbd4"
      },
      "execution_count": 54,
      "outputs": [
        {
          "name": "stdout",
          "output_type": "stream",
          "text": [
            "\u001b[1m\u001b[34mTutor Inteligente\u001b[0m:\n",
            "Olá, sou o Tutor Inteligente, o que você está estudando e como posso te ajudar?\n",
            "\n",
            "\u001b[1m\u001b[32mVocê:\u001b[0m\n",
            ">> fim\n"
          ]
        }
      ]
    },
    {
      "cell_type": "code",
      "source": [
        "chat.history"
      ],
      "metadata": {
        "colab": {
          "base_uri": "https://localhost:8080/"
        },
        "id": "CzhY5lqJJwK-",
        "outputId": "d3cd390c-e135-402e-c640-4c6e01d46d12"
      },
      "execution_count": 55,
      "outputs": [
        {
          "output_type": "execute_result",
          "data": {
            "text/plain": [
              "[]"
            ]
          },
          "metadata": {},
          "execution_count": 55
        }
      ]
    }
  ]
}