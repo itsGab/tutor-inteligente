{
  "nbformat": 4,
  "nbformat_minor": 0,
  "metadata": {
    "colab": {
      "provenance": [],
      "collapsed_sections": [
        "MRWUmsYS7p8_"
      ],
      "authorship_tag": "ABX9TyN3lu2/NnxuDA8WkPXOBgli",
      "include_colab_link": true
    },
    "kernelspec": {
      "name": "python3",
      "display_name": "Python 3"
    },
    "language_info": {
      "name": "python"
    }
  },
  "cells": [
    {
      "cell_type": "markdown",
      "metadata": {
        "id": "view-in-github",
        "colab_type": "text"
      },
      "source": [
        "<a href=\"https://colab.research.google.com/github/itsGab/tutor-inteligente/blob/branches/projeto_tutor_inteligente.ipynb\" target=\"_parent\"><img src=\"https://colab.research.google.com/assets/colab-badge.svg\" alt=\"Open In Colab\"/></a>"
      ]
    },
    {
      "cell_type": "markdown",
      "source": [
        "Para usar o modelo, você deve definir a chave da API na aba **Secrets** (icone de chave na esquerda) no Google Colab como API_KEY."
      ],
      "metadata": {
        "id": "qgCieGt98UwP"
      }
    },
    {
      "cell_type": "markdown",
      "source": [
        "## Instalando GenAi\n"
      ],
      "metadata": {
        "id": "MRWUmsYS7p8_"
      }
    },
    {
      "cell_type": "code",
      "source": [
        "# instalando biblioteca\n",
        "!pip install -U -q google-generativeai"
      ],
      "metadata": {
        "id": "MxQHqpL7EBM8"
      },
      "execution_count": 50,
      "outputs": []
    },
    {
      "cell_type": "markdown",
      "source": [
        "## Configurações"
      ],
      "metadata": {
        "id": "FCkTnkeJ7ydj"
      }
    },
    {
      "cell_type": "code",
      "execution_count": 51,
      "metadata": {
        "id": "fIxYa4hvDzXz"
      },
      "outputs": [],
      "source": [
        "# imports\n",
        "import google.generativeai as genai\n",
        "from IPython.display import Markdown\n",
        "from google.colab import userdata\n",
        "\n",
        "# chave da api\n",
        "API_KEY = userdata.get('API_KEY')\n",
        "genai.configure(api_key=API_KEY)"
      ]
    },
    {
      "cell_type": "code",
      "source": [
        "# montando o modelo\n",
        "generation_config = {\n",
        "  \"temperature\": 1,\n",
        "  \"top_p\": 0.95,\n",
        "  \"top_k\": 0,\n",
        "  \"max_output_tokens\": 16384,\n",
        "}\n",
        "\n",
        "# configuracoes de seguranca\n",
        "safety_settings = [\n",
        "  {\n",
        "    \"category\": \"HARM_CATEGORY_HARASSMENT\",\n",
        "    \"threshold\": \"BLOCK_MEDIUM_AND_ABOVE\"\n",
        "  },\n",
        "  {\n",
        "    \"category\": \"HARM_CATEGORY_HATE_SPEECH\",\n",
        "    \"threshold\": \"BLOCK_MEDIUM_AND_ABOVE\"\n",
        "  },\n",
        "  {\n",
        "    \"category\": \"HARM_CATEGORY_SEXUALLY_EXPLICIT\",\n",
        "    \"threshold\": \"BLOCK_MEDIUM_AND_ABOVE\"\n",
        "  },\n",
        "  {\n",
        "    \"category\": \"HARM_CATEGORY_DANGEROUS_CONTENT\",\n",
        "    \"threshold\": \"BLOCK_MEDIUM_AND_ABOVE\"\n",
        "  },\n",
        "]\n",
        "\n",
        "# carregando instrucoes do modelo\n",
        "with open('/content/instrucoes-tutor-int.txt', 'r') as texto:\n",
        "    system_instruction = texto.read()\n",
        "\n",
        "# finalizando config do modelo\n",
        "model = genai.GenerativeModel(model_name=\"gemini-1.5-pro-latest\",\n",
        "                              generation_config=generation_config,\n",
        "                              system_instruction=system_instruction,\n",
        "                              safety_settings=safety_settings)"
      ],
      "metadata": {
        "id": "FFIdgLEHxgZg"
      },
      "execution_count": 52,
      "outputs": []
    },
    {
      "cell_type": "code",
      "source": [
        "class Estilo:\n",
        "    RESET = '\\033[0m'\n",
        "    TUTOR = '\\033[1m\\033[34m'\n",
        "    USUARIO = '\\033[1m\\033[32m'\n",
        "    FIM = '\\033[31m'\n",
        "\n",
        "# funcao\n",
        "def chat_ativo(modelo):\n",
        "    \"\"\"\n",
        "    Inicia e mantém um chat interativo com um modelo GenerativeModel do Google.\n",
        "    \"\"\"\n",
        "    chat = modelo.start_chat()\n",
        "    print(f'{Estilo.TUTOR}Tutor Inteligente{Estilo.RESET}:\\nOlá, sou o Tutor Inteligente, o que você está estudando e como posso te ajudar?\\n\\n{Estilo.USUARIO}Você:{Estilo.RESET}')\n",
        "    prompt = input('>> ')\n",
        "    while prompt != 'fim':\n",
        "        response = chat.send_message(prompt)\n",
        "        print(f'\\n{Estilo.TUTOR}Tutor Inteligente{Estilo.RESET}:')\n",
        "        display(Markdown(response.text))\n",
        "        print(f'{Estilo.FIM}(Para sair do chat digite \"fim\"){Estilo.RESET}\\n')\n",
        "        display(Markdown('---'))\n",
        "        print(f'{Estilo.USUARIO}Você:{Estilo.RESET}\\n')\n",
        "        prompt = input('>> ')\n",
        "    return chat\n",
        ""
      ],
      "metadata": {
        "id": "PkoA3HX51tmy"
      },
      "execution_count": 53,
      "outputs": []
    },
    {
      "cell_type": "markdown",
      "source": [
        "## CHAT"
      ],
      "metadata": {
        "id": "Q_Ck_-hW7_h-"
      }
    },
    {
      "cell_type": "code",
      "source": [
        "chat = chat_ativo(modelo=model)"
      ],
      "metadata": {
        "colab": {
          "base_uri": "https://localhost:8080/",
          "height": 1000
        },
        "id": "bwLByLS82vle",
        "outputId": "96e817b2-ef2a-4d2b-c1a8-f93115a31964"
      },
      "execution_count": 56,
      "outputs": [
        {
          "output_type": "stream",
          "name": "stdout",
          "text": [
            "\u001b[1m\u001b[34mTutor Inteligente\u001b[0m:\n",
            "Olá, sou o Tutor Inteligente, o que você está estudando e como posso te ajudar?\n",
            "\n",
            "\u001b[1m\u001b[32mVocê:\u001b[0m\n",
            ">> Oi, estou aprendendo funções em python, mas não entendi muito bem. Você pode me explicar melhor? \n",
            "\n",
            "\u001b[1m\u001b[34mTutor Inteligente\u001b[0m:\n"
          ]
        },
        {
          "output_type": "display_data",
          "data": {
            "text/plain": [
              "<IPython.core.display.Markdown object>"
            ],
            "text/markdown": "Olá! Percebi que você está com dificuldades em funções em Python. Sem problemas, eu posso te ajudar com isso!  Vamos desmistificar esse conceito.\n\n**O que são funções?**\n\nImagine uma função como uma mini-fábrica dentro do seu programa.  Você fornece a ela algumas informações (chamadas de \"argumentos\" ou \"parâmetros\"), a função processa essas informações e te devolve um resultado. \n\n**Por que usar funções?**\n\n* **Organização:**  Funções deixam seu código mais organizado e fácil de ler.\n* **Reutilização:** Você pode usar a mesma função várias vezes, evitando repetição de código.\n* **Modularidade:**  Funções dividem seu programa em partes menores e mais fáceis de gerenciar.\n\n**Criando uma função em Python:**\n\n```python\ndef nome_da_funcao(parametro1, parametro2):\n  \"\"\"Docstring: Uma breve descrição da função.\"\"\"\n  # Código da função\n  resultado = parametro1 + parametro2 \n  return resultado\n```\n\n* **`def`:**  Palavra-chave que indica a criação de uma função.\n* **`nome_da_funcao`:**  Você escolhe o nome, seguindo as regras de Python.\n* **`parametro1, parametro2`:**  Valores que a função recebe como entrada.\n* **`Docstring`:**  Um texto explicativo dentro de aspas triplas (`\"\"\"Docstring\"\"\"`) que descreve o que a função faz.\n* **`return`:**  Devolve o resultado do processamento da função.\n\n**Exemplo:**\n\n```python\ndef saudacao(nome):\n  \"\"\"Imprime uma saudação personalizada.\"\"\"\n  print(f\"Olá, {nome}!\")\n\nsaudacao(\"Maria\")  # Saída: Olá, Maria!\n```\n\n**Exercícios:**\n\n1. **Crie uma função que calcula a área de um retângulo, recebendo como parâmetros a base e a altura.**\n2. **Crie uma função que verifica se um número é par ou ímpar, retornando \"Par\" ou \"Ímpar\".**\n\n**Dicas:**\n\n* **Comece com funções simples:** Vá aumentando a complexidade gradualmente.\n* **Teste suas funções:**  Certifique-se que elas fazem o que você espera.\n* **Use nomes descritivos:**  Facilita a leitura e compreensão do código.\n* **Documente suas funções:** Explique o que elas fazem e como usá-las.\n\nCom prática, você dominará as funções em Python! 😉 \n\nSe tiver mais dúvidas, é só me perguntar. Estou aqui para te ajudar a aprender! 😊 \n"
          },
          "metadata": {}
        },
        {
          "output_type": "stream",
          "name": "stdout",
          "text": [
            "\u001b[31m(Para sair do chat digite \"fim\")\u001b[0m\n",
            "\n"
          ]
        },
        {
          "output_type": "display_data",
          "data": {
            "text/plain": [
              "<IPython.core.display.Markdown object>"
            ],
            "text/markdown": "---"
          },
          "metadata": {}
        },
        {
          "output_type": "stream",
          "name": "stdout",
          "text": [
            "\u001b[1m\u001b[32mVocê:\u001b[0m\n",
            "\n",
            ">> Agora estou entendendo um pouco melhor, obrigado.\n",
            "\n",
            "\u001b[1m\u001b[34mTutor Inteligente\u001b[0m:\n"
          ]
        },
        {
          "output_type": "display_data",
          "data": {
            "text/plain": [
              "<IPython.core.display.Markdown object>"
            ],
            "text/markdown": "Que bom saber que as coisas estão ficando mais claras! 🙂\n\nLembre-se que a prática é essencial para consolidar o aprendizado. Que tal tentar resolver os exercícios que sugeri? Se precisar de dicas, estou à disposição! \n\nE não hesite em perguntar caso tenha mais dúvidas.  Aprenderemos juntos! 😄 \n"
          },
          "metadata": {}
        },
        {
          "output_type": "stream",
          "name": "stdout",
          "text": [
            "\u001b[31m(Para sair do chat digite \"fim\")\u001b[0m\n",
            "\n"
          ]
        },
        {
          "output_type": "display_data",
          "data": {
            "text/plain": [
              "<IPython.core.display.Markdown object>"
            ],
            "text/markdown": "---"
          },
          "metadata": {}
        },
        {
          "name": "stdout",
          "output_type": "stream",
          "text": [
            "\u001b[1m\u001b[32mVocê:\u001b[0m\n",
            "\n",
            ">> fim\n"
          ]
        }
      ]
    },
    {
      "cell_type": "code",
      "source": [
        "chat.history"
      ],
      "metadata": {
        "colab": {
          "base_uri": "https://localhost:8080/"
        },
        "id": "CzhY5lqJJwK-",
        "outputId": "6dc5d83f-0190-471c-dcc6-7116c08d2742"
      },
      "execution_count": 57,
      "outputs": [
        {
          "output_type": "execute_result",
          "data": {
            "text/plain": [
              "[parts {\n",
              "   text: \"Oi, estou aprendendo fun\\303\\247\\303\\265es em python, mas n\\303\\243o entendi muito bem. Voc\\303\\252 pode me explicar melhor? \"\n",
              " }\n",
              " role: \"user\",\n",
              " parts {\n",
              "   text: \"Ol\\303\\241! Percebi que voc\\303\\252 est\\303\\241 com dificuldades em fun\\303\\247\\303\\265es em Python. Sem problemas, eu posso te ajudar com isso!  Vamos desmistificar esse conceito.\\n\\n**O que s\\303\\243o fun\\303\\247\\303\\265es?**\\n\\nImagine uma fun\\303\\247\\303\\243o como uma mini-f\\303\\241brica dentro do seu programa.  Voc\\303\\252 fornece a ela algumas informa\\303\\247\\303\\265es (chamadas de \\\"argumentos\\\" ou \\\"par\\303\\242metros\\\"), a fun\\303\\247\\303\\243o processa essas informa\\303\\247\\303\\265es e te devolve um resultado. \\n\\n**Por que usar fun\\303\\247\\303\\265es?**\\n\\n* **Organiza\\303\\247\\303\\243o:**  Fun\\303\\247\\303\\265es deixam seu c\\303\\263digo mais organizado e f\\303\\241cil de ler.\\n* **Reutiliza\\303\\247\\303\\243o:** Voc\\303\\252 pode usar a mesma fun\\303\\247\\303\\243o v\\303\\241rias vezes, evitando repeti\\303\\247\\303\\243o de c\\303\\263digo.\\n* **Modularidade:**  Fun\\303\\247\\303\\265es dividem seu programa em partes menores e mais f\\303\\241ceis de gerenciar.\\n\\n**Criando uma fun\\303\\247\\303\\243o em Python:**\\n\\n```python\\ndef nome_da_funcao(parametro1, parametro2):\\n  \\\"\\\"\\\"Docstring: Uma breve descri\\303\\247\\303\\243o da fun\\303\\247\\303\\243o.\\\"\\\"\\\"\\n  # C\\303\\263digo da fun\\303\\247\\303\\243o\\n  resultado = parametro1 + parametro2 \\n  return resultado\\n```\\n\\n* **`def`:**  Palavra-chave que indica a cria\\303\\247\\303\\243o de uma fun\\303\\247\\303\\243o.\\n* **`nome_da_funcao`:**  Voc\\303\\252 escolhe o nome, seguindo as regras de Python.\\n* **`parametro1, parametro2`:**  Valores que a fun\\303\\247\\303\\243o recebe como entrada.\\n* **`Docstring`:**  Um texto explicativo dentro de aspas triplas (`\\\"\\\"\\\"Docstring\\\"\\\"\\\"`) que descreve o que a fun\\303\\247\\303\\243o faz.\\n* **`return`:**  Devolve o resultado do processamento da fun\\303\\247\\303\\243o.\\n\\n**Exemplo:**\\n\\n```python\\ndef saudacao(nome):\\n  \\\"\\\"\\\"Imprime uma sauda\\303\\247\\303\\243o personalizada.\\\"\\\"\\\"\\n  print(f\\\"Ol\\303\\241, {nome}!\\\")\\n\\nsaudacao(\\\"Maria\\\")  # Sa\\303\\255da: Ol\\303\\241, Maria!\\n```\\n\\n**Exerc\\303\\255cios:**\\n\\n1. **Crie uma fun\\303\\247\\303\\243o que calcula a \\303\\241rea de um ret\\303\\242ngulo, recebendo como par\\303\\242metros a base e a altura.**\\n2. **Crie uma fun\\303\\247\\303\\243o que verifica se um n\\303\\272mero \\303\\251 par ou \\303\\255mpar, retornando \\\"Par\\\" ou \\\"\\303\\215mpar\\\".**\\n\\n**Dicas:**\\n\\n* **Comece com fun\\303\\247\\303\\265es simples:** V\\303\\241 aumentando a complexidade gradualmente.\\n* **Teste suas fun\\303\\247\\303\\265es:**  Certifique-se que elas fazem o que voc\\303\\252 espera.\\n* **Use nomes descritivos:**  Facilita a leitura e compreens\\303\\243o do c\\303\\263digo.\\n* **Documente suas fun\\303\\247\\303\\265es:** Explique o que elas fazem e como us\\303\\241-las.\\n\\nCom pr\\303\\241tica, voc\\303\\252 dominar\\303\\241 as fun\\303\\247\\303\\265es em Python! \\360\\237\\230\\211 \\n\\nSe tiver mais d\\303\\272vidas, \\303\\251 s\\303\\263 me perguntar. Estou aqui para te ajudar a aprender! \\360\\237\\230\\212 \\n\"\n",
              " }\n",
              " role: \"model\",\n",
              " parts {\n",
              "   text: \"Agora estou entendendo um pouco melhor, obrigado.\"\n",
              " }\n",
              " role: \"user\",\n",
              " parts {\n",
              "   text: \"Que bom saber que as coisas est\\303\\243o ficando mais claras! \\360\\237\\231\\202\\n\\nLembre-se que a pr\\303\\241tica \\303\\251 essencial para consolidar o aprendizado. Que tal tentar resolver os exerc\\303\\255cios que sugeri? Se precisar de dicas, estou \\303\\240 disposi\\303\\247\\303\\243o! \\n\\nE n\\303\\243o hesite em perguntar caso tenha mais d\\303\\272vidas.  Aprenderemos juntos! \\360\\237\\230\\204 \\n\"\n",
              " }\n",
              " role: \"model\"]"
            ]
          },
          "metadata": {},
          "execution_count": 57
        }
      ]
    }
  ]
}